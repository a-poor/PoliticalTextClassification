{
 "cells": [
  {
   "cell_type": "markdown",
   "metadata": {},
   "source": [
    "# Classifying News Article Bias with LSTM"
   ]
  },
  {
   "cell_type": "code",
   "execution_count": 1,
   "metadata": {},
   "outputs": [
    {
     "name": "stderr",
     "output_type": "stream",
     "text": [
      "Using TensorFlow backend.\n"
     ]
    }
   ],
   "source": [
    "import sqlite3\n",
    "import pickle\n",
    "import numpy as np\n",
    "import re\n",
    "import random\n",
    "from time import strftime, localtime\n",
    "\n",
    "from keras.preprocessing.text import text_to_word_sequence\n",
    "from keras.preprocessing.sequence import pad_sequences\n",
    "\n",
    "from keras.models import Sequential, load_model\n",
    "from keras.layers import Embedding, Dense, LSTM, Dropout, Conv1D, MaxPooling1D, Flatten\n",
    "from keras.callbacks import EarlyStopping, ModelCheckpoint"
   ]
  },
  {
   "cell_type": "code",
   "execution_count": 2,
   "metadata": {},
   "outputs": [],
   "source": [
    "MAX_ARTICLE_LENGTH = 10000\n",
    "PAD_VALUE = 0\n",
    "\n",
    "db = sqlite3.connect('text_encoder.db')\n",
    "c = db.cursor()\n",
    "c.execute('''CREATE TABLE IF NOT EXISTS \"TextEncoder\"(\n",
    "    \"word\" TEXT,\n",
    "    \"n\" INTEGER,\n",
    "    PRIMARY KEY(\"word\")\n",
    ");''')\n",
    "del c"
   ]
  },
  {
   "cell_type": "code",
   "execution_count": 3,
   "metadata": {},
   "outputs": [],
   "source": [
    "def get_max_key():\n",
    "    c = db.cursor()\n",
    "    c.execute('SELECT MAX(n) FROM TextEncoder;')\n",
    "    return c.fetchone()[0]\n",
    "\n",
    "def add_word_encoding(word, key):\n",
    "    c = db.cursor()\n",
    "    c.execute('INSERT INTO TextEncoder (word, n) VALUES (?, ?);', (word, key))\n",
    "    assert c.rowcount > 0, \"ERROR Inserting key %10s as word: %20s\" % (key, word)\n",
    "    db.commit()\n",
    "    return\n",
    "\n",
    "def get_word_key(word, freeze):\n",
    "    c = db.cursor()\n",
    "    c.execute('SELECT n FROM TextEncoder WHERE word = ?;', (word,))\n",
    "    response = c.fetchone()\n",
    "    if response is not None:\n",
    "        return response[0]\n",
    "    else:\n",
    "        if freeze:\n",
    "            return None\n",
    "        else:\n",
    "            key = get_max_key() + 1\n",
    "            add_word_encoding(word, key)\n",
    "            print('Adding word \"%20s\" as n: %10i' % (word, key))\n",
    "            return key\n",
    "\n",
    "def get_vocab_length():\n",
    "    c = db.cursor()\n",
    "    c.execute('SELECT COUNT(*) FROM TextEncoder;')\n",
    "    return c.fetchone()[0]\n",
    "\n",
    "def numberize_article(article, freeze):\n",
    "    tokens = text_to_word_sequence(article)\n",
    "    num_article = []\n",
    "    for token in tokens:\n",
    "        key = get_word_key(token, freeze)\n",
    "        if key is not None:\n",
    "            num_article.append(key)\n",
    "    return np.array(num_article)\n",
    "\n",
    "def get_nums_word(n):\n",
    "    c = db.cursor()\n",
    "    c.execute('SELECT word FROM TextEncoder WHERE n = ?;', (n,))\n",
    "    word = c.fetchone()\n",
    "    if word is None:\n",
    "        return ''\n",
    "    else:\n",
    "        return word[0]"
   ]
  },
  {
   "cell_type": "code",
   "execution_count": 4,
   "metadata": {},
   "outputs": [],
   "source": [
    "def remake_article(num_article):\n",
    "    text_array = [get_nums_word(n) for n in num_article]\n",
    "    raw_text = ' '.join(text_array)\n",
    "    return re.sub(r'\\s+', ' ', raw_text)\n",
    "\n",
    "\n",
    "def parse_articles(articles, max_length=MAX_ARTICLE_LENGTH, min_length=20, verbose=False, freeze=False):\n",
    "    numerified_articles = []\n",
    "    removed_articles = set()\n",
    "    for i, a in enumerate(articles):\n",
    "        numberized = numberize_article(a, freeze)\n",
    "        if len(numberized) >= min_length:\n",
    "            numerified_articles.append(numberized)\n",
    "        else:\n",
    "            removed_articles.add(i)\n",
    "            if verbose:\n",
    "                print('Removing article: %6i for being too short. Length: %3i' % (i, len(numberized)))\n",
    "    numerified_articles = np.array(numerified_articles)\n",
    "    return pad_sequences(numerified_articles, maxlen=max_length, dtype='float32', value=0), removed_articles\n",
    "\n",
    "\n",
    "def train_test_split(data_in, data_out, train_pct=0.75, validate=True, val_pct_of_test=0.33):\n",
    "    all_data = list(zip(data_in, data_out))\n",
    "    random.shuffle(all_data)\n",
    "    shuffled_in, shuffled_out = zip(*all_data)\n",
    "    data_length = len(all_data)\n",
    "    if validate:\n",
    "        test_split = int(data_length * train_pct)\n",
    "        val_split = test_split + int((data_length - test_split) * (1 - val_pct_of_test))\n",
    "        \n",
    "        train_in = shuffled_in[:test_split]\n",
    "        test_in = shuffled_in[test_split:val_split]\n",
    "        val_in = shuffled_in[val_split:]\n",
    "        \n",
    "        train_out = shuffled_out[:test_split]\n",
    "        test_out = shuffled_out[test_split:val_split]\n",
    "        val_out = shuffled_out[val_split:]\n",
    "        \n",
    "        return (np.array(train_in), np.array(train_out)), (np.array(val_in), np.array(val_out)), (np.array(test_in), np.array(test_out))\n",
    "    else:\n",
    "        test_split = int(data_length * train_pct)\n",
    "        train_in = shuffled_in[:test_split]\n",
    "        train_out = shuffled_out[:test_split]\n",
    "        test_in = shuffled_in[test_split:]\n",
    "        test_out = shuffled_out[test_split:]\n",
    "        return (np.array(train_in), np.array(train_out)), (np.array(test_in), np.array(test_out))\n",
    "\n",
    "\n",
    "def create_model(encoding_vector_size=100, n_filters=32, kernel_size=3, pool_size=2, add_dropout=True, dropout_pct=0.2):\n",
    "    model = Sequential()\n",
    "    model.add(Embedding(\n",
    "        input_dim=get_vocab_length(),\n",
    "        output_dim=encoding_vector_size,\n",
    "        input_length=MAX_ARTICLE_LENGTH\n",
    "    ))\n",
    "    if add_dropout:\n",
    "        model.add(Dropout(dropout_pct))\n",
    "    model.add(Conv1D(\n",
    "        filters=n_filters, \n",
    "        kernel_size=kernel_size, \n",
    "        padding='same', \n",
    "        activation='relu'\n",
    "    ))\n",
    "    model.add(MaxPooling1D(\n",
    "        pool_size=pool_size\n",
    "    ))\n",
    "    if add_dropout:\n",
    "        model.add(Dropout(dropout_pct))\n",
    "    model.add(LSTM(100))\n",
    "    model.add(Dense(1, activation='sigmoid'))\n",
    "    return model\n",
    "\n",
    "def gen_filename():\n",
    "    return 'savedModels/article_lstm_model_%s.h5' % strftime('%y%m%d.%H%M%S', localtime())\n",
    "\n",
    "def get_data_from_db():\n",
    "    adb = sqlite3.connect('articles.db')\n",
    "    c = adb.cursor()\n",
    "    c.execute('SELECT text, right_score FROM SiteScrape;')\n",
    "    articles, labels = zip(*c.fetchall())\n",
    "    return articles, np.array(labels).astype('float32')\n",
    "\n",
    "def save_data(articles, labels):\n",
    "    data = {\n",
    "        'articles': articles,\n",
    "        'labels': labels\n",
    "    }\n",
    "    with open('data_save.pickle', 'wb') as f:\n",
    "        pickle.dump(data, f)\n",
    "    return\n",
    "\n",
    "def get_data_from_pickle():\n",
    "    with open('data_save.pickle', 'rb') as f:\n",
    "        data = pickle.load(f)\n",
    "    articles = data['articles']\n",
    "    labels   = data['labels']\n",
    "    return articles, labels"
   ]
  },
  {
   "cell_type": "markdown",
   "metadata": {},
   "source": [
    "Import the data, parse the articles & labels, and then save them out"
   ]
  },
  {
   "cell_type": "code",
   "execution_count": 5,
   "metadata": {},
   "outputs": [],
   "source": [
    "# Load\n",
    "articles, labels = get_data_from_db()\n",
    "\n",
    "# Process\n",
    "processed_articles, removed_articles = parse_articles(articles)\n",
    "labels = np.array([l for i, l in enumerate(labels) if i not in removed_articles])\n",
    "\n",
    "#Save\n",
    "save_data(processed_articles, labels)"
   ]
  },
  {
   "cell_type": "markdown",
   "metadata": {},
   "source": [
    "*Then* next time you can just load in the already processed data… (assuming nothing has changed)"
   ]
  },
  {
   "cell_type": "code",
   "execution_count": 6,
   "metadata": {},
   "outputs": [],
   "source": [
    "processed_articles, labels = get_data_from_pickle()"
   ]
  },
  {
   "cell_type": "markdown",
   "metadata": {},
   "source": [
    "Split out the data into `train`, `validate`, and`test`"
   ]
  },
  {
   "cell_type": "code",
   "execution_count": 7,
   "metadata": {},
   "outputs": [],
   "source": [
    "(train_in, train_out), (val_in, val_out), (test_in, test_out) = train_test_split(processed_articles, labels)"
   ]
  },
  {
   "cell_type": "markdown",
   "metadata": {},
   "source": [
    "Now build the model…"
   ]
  },
  {
   "cell_type": "code",
   "execution_count": 8,
   "metadata": {},
   "outputs": [
    {
     "name": "stdout",
     "output_type": "stream",
     "text": [
      "WARNING:tensorflow:From /Users/Austin/anaconda3/lib/python3.7/site-packages/keras/backend/tensorflow_backend.py:74: The name tf.get_default_graph is deprecated. Please use tf.compat.v1.get_default_graph instead.\n",
      "\n",
      "WARNING:tensorflow:From /Users/Austin/anaconda3/lib/python3.7/site-packages/keras/backend/tensorflow_backend.py:517: The name tf.placeholder is deprecated. Please use tf.compat.v1.placeholder instead.\n",
      "\n",
      "WARNING:tensorflow:From /Users/Austin/anaconda3/lib/python3.7/site-packages/keras/backend/tensorflow_backend.py:4138: The name tf.random_uniform is deprecated. Please use tf.random.uniform instead.\n",
      "\n",
      "WARNING:tensorflow:From /Users/Austin/anaconda3/lib/python3.7/site-packages/keras/backend/tensorflow_backend.py:133: The name tf.placeholder_with_default is deprecated. Please use tf.compat.v1.placeholder_with_default instead.\n",
      "\n",
      "WARNING:tensorflow:From /Users/Austin/anaconda3/lib/python3.7/site-packages/keras/backend/tensorflow_backend.py:3445: calling dropout (from tensorflow.python.ops.nn_ops) with keep_prob is deprecated and will be removed in a future version.\n",
      "Instructions for updating:\n",
      "Please use `rate` instead of `keep_prob`. Rate should be set to `rate = 1 - keep_prob`.\n",
      "WARNING:tensorflow:From /Users/Austin/anaconda3/lib/python3.7/site-packages/keras/backend/tensorflow_backend.py:3976: The name tf.nn.max_pool is deprecated. Please use tf.nn.max_pool2d instead.\n",
      "\n",
      "WARNING:tensorflow:From /Users/Austin/anaconda3/lib/python3.7/site-packages/keras/optimizers.py:790: The name tf.train.Optimizer is deprecated. Please use tf.compat.v1.train.Optimizer instead.\n",
      "\n",
      "WARNING:tensorflow:From /Users/Austin/anaconda3/lib/python3.7/site-packages/keras/backend/tensorflow_backend.py:3376: The name tf.log is deprecated. Please use tf.math.log instead.\n",
      "\n",
      "WARNING:tensorflow:From /Users/Austin/anaconda3/lib/python3.7/site-packages/tensorflow/python/ops/nn_impl.py:180: add_dispatch_support.<locals>.wrapper (from tensorflow.python.ops.array_ops) is deprecated and will be removed in a future version.\n",
      "Instructions for updating:\n",
      "Use tf.where in 2.0, which has the same broadcast rule as np.where\n"
     ]
    }
   ],
   "source": [
    "model = create_model()\n",
    "\n",
    "callbacks = [\n",
    "    EarlyStopping(\n",
    "        monitor='val_acc', \n",
    "        patience=2\n",
    "    ),\n",
    "    ModelCheckpoint(\n",
    "        filepath=gen_filename(), \n",
    "        monitor='val_acc', \n",
    "        save_best_only=True\n",
    "    )\n",
    "]\n",
    "\n",
    "model.compile(\n",
    "    optimizer='adam',\n",
    "    loss='binary_crossentropy',\n",
    "    metrics=['acc']\n",
    ")"
   ]
  },
  {
   "cell_type": "markdown",
   "metadata": {},
   "source": [
    "What does the model look like?"
   ]
  },
  {
   "cell_type": "code",
   "execution_count": 9,
   "metadata": {},
   "outputs": [
    {
     "name": "stdout",
     "output_type": "stream",
     "text": [
      "_________________________________________________________________\n",
      "Layer (type)                 Output Shape              Param #   \n",
      "=================================================================\n",
      "embedding_1 (Embedding)      (None, 10000, 100)        17328600  \n",
      "_________________________________________________________________\n",
      "dropout_1 (Dropout)          (None, 10000, 100)        0         \n",
      "_________________________________________________________________\n",
      "conv1d_1 (Conv1D)            (None, 10000, 32)         9632      \n",
      "_________________________________________________________________\n",
      "max_pooling1d_1 (MaxPooling1 (None, 5000, 32)          0         \n",
      "_________________________________________________________________\n",
      "dropout_2 (Dropout)          (None, 5000, 32)          0         \n",
      "_________________________________________________________________\n",
      "lstm_1 (LSTM)                (None, 100)               53200     \n",
      "_________________________________________________________________\n",
      "dense_1 (Dense)              (None, 1)                 101       \n",
      "=================================================================\n",
      "Total params: 17,391,533\n",
      "Trainable params: 17,391,533\n",
      "Non-trainable params: 0\n",
      "_________________________________________________________________\n"
     ]
    }
   ],
   "source": [
    "model.summary()"
   ]
  },
  {
   "cell_type": "markdown",
   "metadata": {},
   "source": [
    "Not starting from scratch? Use the following code instead"
   ]
  },
  {
   "cell_type": "code",
   "execution_count": 5,
   "metadata": {},
   "outputs": [
    {
     "name": "stdout",
     "output_type": "stream",
     "text": [
      "WARNING:tensorflow:From /Users/Austin/anaconda3/lib/python3.7/site-packages/keras/backend/tensorflow_backend.py:517: The name tf.placeholder is deprecated. Please use tf.compat.v1.placeholder instead.\n",
      "\n",
      "WARNING:tensorflow:From /Users/Austin/anaconda3/lib/python3.7/site-packages/keras/backend/tensorflow_backend.py:4138: The name tf.random_uniform is deprecated. Please use tf.random.uniform instead.\n",
      "\n",
      "WARNING:tensorflow:From /Users/Austin/anaconda3/lib/python3.7/site-packages/keras/backend/tensorflow_backend.py:131: The name tf.get_default_graph is deprecated. Please use tf.compat.v1.get_default_graph instead.\n",
      "\n",
      "WARNING:tensorflow:From /Users/Austin/anaconda3/lib/python3.7/site-packages/keras/backend/tensorflow_backend.py:133: The name tf.placeholder_with_default is deprecated. Please use tf.compat.v1.placeholder_with_default instead.\n",
      "\n",
      "WARNING:tensorflow:From /Users/Austin/anaconda3/lib/python3.7/site-packages/keras/backend/tensorflow_backend.py:3445: calling dropout (from tensorflow.python.ops.nn_ops) with keep_prob is deprecated and will be removed in a future version.\n",
      "Instructions for updating:\n",
      "Please use `rate` instead of `keep_prob`. Rate should be set to `rate = 1 - keep_prob`.\n",
      "WARNING:tensorflow:From /Users/Austin/anaconda3/lib/python3.7/site-packages/keras/backend/tensorflow_backend.py:3976: The name tf.nn.max_pool is deprecated. Please use tf.nn.max_pool2d instead.\n",
      "\n",
      "WARNING:tensorflow:From /Users/Austin/anaconda3/lib/python3.7/site-packages/keras/backend/tensorflow_backend.py:174: The name tf.get_default_session is deprecated. Please use tf.compat.v1.get_default_session instead.\n",
      "\n",
      "WARNING:tensorflow:From /Users/Austin/anaconda3/lib/python3.7/site-packages/keras/optimizers.py:790: The name tf.train.Optimizer is deprecated. Please use tf.compat.v1.train.Optimizer instead.\n",
      "\n",
      "WARNING:tensorflow:From /Users/Austin/anaconda3/lib/python3.7/site-packages/tensorflow/python/ops/nn_impl.py:180: add_dispatch_support.<locals>.wrapper (from tensorflow.python.ops.array_ops) is deprecated and will be removed in a future version.\n",
      "Instructions for updating:\n",
      "Use tf.where in 2.0, which has the same broadcast rule as np.where\n"
     ]
    }
   ],
   "source": [
    "# Enter the filename of the model to load\n",
    "model_filename = 'savedModels/article_lstm_model_190515.002419.h5'\n",
    "model = load_model(model_filename)"
   ]
  },
  {
   "cell_type": "markdown",
   "metadata": {},
   "source": [
    "Train the model for 3 epochs"
   ]
  },
  {
   "cell_type": "code",
   "execution_count": null,
   "metadata": {},
   "outputs": [
    {
     "name": "stdout",
     "output_type": "stream",
     "text": [
      "Train on 13912 samples, validate on 1531 samples\n",
      "Epoch 1/5\n"
     ]
    }
   ],
   "source": [
    "hist = model.fit(\n",
    "    train_in,\n",
    "    train_out,\n",
    "    epochs=5,\n",
    "    batch_size=64,\n",
    "    validation_data=(val_in, val_out),\n",
    "    callbacks=callbacks\n",
    ")"
   ]
  },
  {
   "cell_type": "markdown",
   "metadata": {},
   "source": [
    "Evaluate the trained model…"
   ]
  },
  {
   "cell_type": "code",
   "execution_count": 29,
   "metadata": {},
   "outputs": [
    {
     "name": "stdout",
     "output_type": "stream",
     "text": [
      "3107/3107 [==============================] - 71s 23ms/step\n",
      "History Results:\n",
      "Loss:      0.05\n",
      "Accuracy: 97.88 %\n"
     ]
    }
   ],
   "source": [
    "evaluate = model.evaluate(test_in, test_out)\n",
    "print('History Results:')\n",
    "print('Loss:     %5.2f\\nAccuracy: %5.2f %%' % (evaluate[0], (evaluate[1]*100)))"
   ]
  },
  {
   "cell_type": "markdown",
   "metadata": {},
   "source": [
    "Plot the history"
   ]
  },
  {
   "cell_type": "code",
   "execution_count": 30,
   "metadata": {},
   "outputs": [],
   "source": [
    "import matplotlib.pyplot as plt\n",
    "%matplotlib inline"
   ]
  },
  {
   "cell_type": "markdown",
   "metadata": {},
   "source": [
    "What does the accuracy look like?"
   ]
  },
  {
   "cell_type": "code",
   "execution_count": 31,
   "metadata": {},
   "outputs": [
    {
     "data": {
      "image/png": "[encoded data removed]",
      "text/plain": [
       "<Figure size 432x288 with 1 Axes>"
      ]
     },
     "metadata": {
      "needs_background": "light"
     },
     "output_type": "display_data"
    }
   ],
   "source": [
    "plt.plot(hist.history['acc'])\n",
    "plt.title('Article Classification LSTM Accuracy')\n",
    "plt.xlabel('Epoch')\n",
    "plt.ylabel('Accuracy')\n",
    "plt.grid()\n",
    "plt.show()\n"
   ]
  },
  {
   "cell_type": "markdown",
   "metadata": {},
   "source": [
    "What does the loss look like?"
   ]
  },
  {
   "cell_type": "code",
   "execution_count": 32,
   "metadata": {
    "collapsed": true,
    "jupyter": {
     "outputs_hidden": true
    }
   },
   "outputs": [
    {
     "data": {
      "image/png": "[encoded data removed]",
      "text/plain": [
       "<Figure size 432x288 with 1 Axes>"
      ]
     },
     "metadata": {
      "needs_background": "light"
     },
     "output_type": "display_data"
    }
   ],
   "source": [
    "plt.plot(hist.history['loss'])\n",
    "plt.title('Article Classification LSTM Loss')\n",
    "plt.xlabel('Epoch')\n",
    "plt.ylabel('Loss')\n",
    "plt.grid()\n",
    "plt.show()\n"
   ]
  },
  {
   "cell_type": "markdown",
   "metadata": {},
   "source": [
    "## Testing the Network"
   ]
  },
  {
   "cell_type": "code",
   "execution_count": 6,
   "metadata": {},
   "outputs": [],
   "source": [
    "import re\n",
    "import requests\n",
    "from bs4 import BeautifulSoup\n",
    "from keras.models import load_model"
   ]
  },
  {
   "cell_type": "code",
   "execution_count": 7,
   "metadata": {},
   "outputs": [],
   "source": [
    "model = load_model('savedModels/article_lstm_model_190515.002419.h5')"
   ]
  },
  {
   "cell_type": "code",
   "execution_count": 8,
   "metadata": {},
   "outputs": [],
   "source": [
    "def clean_text(raw_text, to_lower=True):\n",
    "    text = re.sub(r'(https|http):[^\\s]*', ' ', raw_text)\n",
    "    text = re.sub('[' + re.escape('#@!\"$%&(\\')*+,-./:;<=>?[\\\\]^_`{|}~') + ']', '', text)\n",
    "    text = text.encode('utf8').decode('ascii','ignore')\n",
    "    text = re.sub(r'\\s+', ' ', text)\n",
    "    text = text.strip()\n",
    "    return text.lower()\n",
    "\n",
    "def scrape_page(url):\n",
    "    response = requests.get(url)\n",
    "    soup = BeautifulSoup(response.content, features='lxml')\n",
    "    p_tags = soup.find_all('p')\n",
    "    raw_text = ' '.join([p.text for p in p_tags])\n",
    "    text = clean_text(raw_text)\n",
    "    return text\n",
    "\n",
    "def make_prediction(text, model=model):\n",
    "    parsed_article, _ = parse_articles([text], min_length=10, freeze=True)\n",
    "    if len(parsed_article) < 1:\n",
    "        print('Sorry! It looks like once I processed that article, it was too short to use. :\\'(')\n",
    "        return\n",
    "    print('🤔 Let me think…')\n",
    "    prediction = model.predict(parsed_article)\n",
    "    prediction_pct = prediction[0] * 100\n",
    "    print('''\\n   ------------------------------------------------------------------------------------------\\n  |   I\\'d say that there\\'s a %5.2f%% chance that your article is from a right-leaning source. |\\n  |  ----------------------------------------------------------------------------------------\\n  |/\\n🖥️\\n''' % prediction_pct)\n",
    "    return"
   ]
  },
  {
   "cell_type": "markdown",
   "metadata": {},
   "source": [
    "Enter a URL below to test out the model!"
   ]
  },
  {
   "cell_type": "code",
   "execution_count": 10,
   "metadata": {},
   "outputs": [
    {
     "name": "stdin",
     "output_type": "stream",
     "text": [
      "Enter a url:  https://www.breitbart.com/politics/2019/10/20/sheriff-my-deputies-wont-be-in-beto-orourkes-anti-gun-gestapo/\n"
     ]
    },
    {
     "name": "stdout",
     "output_type": "stream",
     "text": [
      "\n",
      "\n",
      "\n",
      "🤔 Let me think…\n",
      "\n",
      "   ------------------------------------------------------------------------------------------\n",
      "  |   I'd say that there's a 98.93% chance that your article is from a right-leaning source. |\n",
      "  |  ----------------------------------------------------------------------------------------\n",
      "  |/\n",
      "🖥️\n",
      "\n"
     ]
    }
   ],
   "source": [
    "url = input('Enter a url: ').strip()\n",
    "print('\\n\\n')\n",
    "make_prediction(url)"
   ]
  },
  {
   "cell_type": "code",
   "execution_count": null,
   "metadata": {},
   "outputs": [],
   "source": []
  }
 ],
 "metadata": {
  "kernelspec": {
   "display_name": "Python 3",
   "language": "python",
   "name": "python3"
  },
  "language_info": {
   "codemirror_mode": {
    "name": "ipython",
    "version": 3
   },
   "file_extension": ".py",
   "mimetype": "text/x-python",
   "name": "python",
   "nbconvert_exporter": "python",
   "pygments_lexer": "ipython3",
   "version": "3.7.3"
  }
 },
 "nbformat": 4,
 "nbformat_minor": 4
}
